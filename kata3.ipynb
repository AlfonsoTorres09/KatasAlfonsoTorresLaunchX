{
 "cells": [
  {
   "cell_type": "markdown",
   "metadata": {},
   "source": [
    "## Se acerca un Asteroide"
   ]
  },
  {
   "cell_type": "code",
   "execution_count": 6,
   "metadata": {},
   "outputs": [
    {
     "name": "stdout",
     "output_type": "stream",
     "text": [
      "¡Advertencia! ¡Se acerca un asteroide a gran velocidad!\n"
     ]
    }
   ],
   "source": [
    "# Ejercicio 1\n",
    "# Añadir el código necesario para crear una variable que guarde la velocidad del asteroide.\n",
    "# Escribe una expresión de prueba para calcular si necesita una advertencia.\n",
    "# Agregue las instrucciones que se ejecutarán si la expresión de prueba es true o false.\n",
    "vel_asteroideKs = 49\n",
    "if int(vel_asteroideKs) > 25:\n",
    "    print('¡Advertencia! ¡Se acerca un asteroide a gran velocidad!')\n",
    "else :\n",
    "    print('No hay de que preocuparse.')\n",
    "\n",
    "\n"
   ]
  },
  {
   "cell_type": "code",
   "execution_count": 5,
   "metadata": {},
   "outputs": [
    {
     "name": "stdout",
     "output_type": "stream",
     "text": [
      "No hay nada en el cielo\n"
     ]
    }
   ],
   "source": [
    "# Ejercicio 2\n",
    "# Agrega el código para crear una variable para un asteroide que viaja a 19 km/s\n",
    "# Escribe varias expresiones de prueba para determinar si puedes ver el rayo de luz desde la tierra\n",
    "# Agrega las instrucciones que se ejecutarán si las expresiones de prueba son True o False\n",
    "vel_asteroideKs= 19;\n",
    "if int(vel_asteroideKs) > 20:\n",
    "    print('¡Voltea al cielo! Hay una rayo en el cielo')\n",
    "elif (vel_asteroideKs) == 20:\n",
    "    print('¡Voltea al cielo! Hay una rayo en el cielo')\n",
    "else :\n",
    "    print('No hay nada en el cielo')\n"
   ]
  },
  {
   "cell_type": "code",
   "execution_count": 10,
   "metadata": {},
   "outputs": [
    {
     "name": "stdout",
     "output_type": "stream",
     "text": [
      "¡Voltea al cielo! Hay una rayo en el cielo\n"
     ]
    }
   ],
   "source": [
    "# Ejercicio 3\n",
    "# Agrega el código para crear nuevas variables para la velocidad y el tamaño del asteroide\n",
    "# Para probar el código, prueba con varias velocidades y tamaños\n",
    "# Escribe varias expresiones de prueba o combinaciones de expresiones de prueba para determinar qué mensaje se debe enviar a Tierra.\n",
    "\n",
    "dim_asteroideMts = 25\n",
    "vel_asteroideKs = 50\n",
    "\n",
    "if dim_asteroideMts > 25 and vel_asteroideKs > 25 : \n",
    "    print('¡Advertencia! ¡Se acerca un asteroide peligroso a gran velocidad!')\n",
    "elif vel_asteroideKs >= 20:\n",
    "    print('¡Voltea al cielo! Hay una rayo en el cielo')\n",
    "elif (dim_asteroideMts < 25) :\n",
    "    print('No hay nada en el cielo')\n",
    "else: \n",
    "    print('No hay nada en el cielo')"
   ]
  }
 ],
 "metadata": {
  "interpreter": {
   "hash": "648d64527e91345dabb46150b04156a68cf623baef488e9bce156005adf01358"
  },
  "kernelspec": {
   "display_name": "Python 3.10.2 64-bit",
   "language": "python",
   "name": "python3"
  },
  "language_info": {
   "codemirror_mode": {
    "name": "ipython",
    "version": 3
   },
   "file_extension": ".py",
   "mimetype": "text/x-python",
   "name": "python",
   "nbconvert_exporter": "python",
   "pygments_lexer": "ipython3",
   "version": "3.10.2"
  },
  "orig_nbformat": 4
 },
 "nbformat": 4,
 "nbformat_minor": 2
}
