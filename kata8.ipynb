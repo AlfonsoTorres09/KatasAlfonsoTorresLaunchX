{
 "cells": [
  {
   "cell_type": "code",
   "execution_count": 1,
   "metadata": {},
   "outputs": [
    {
     "name": "stdout",
     "output_type": "stream",
     "text": [
      "El planeta Marte tiene 2 lunas\n",
      "Marte tiene una circunferencia polar de 6752 Km\n"
     ]
    }
   ],
   "source": [
    "planetas = {\n",
    "    'nombre': 'Marte',\n",
    "    'lunas': 2\n",
    "}\n",
    "\n",
    "print(f'El planeta {planetas[\"nombre\"]} tiene {planetas[\"lunas\"]} lunas')\n",
    "\n",
    "planetas['circunferenciaKms'] = {\n",
    "    'polar': 6752,\n",
    "    'ecuatorial': 6792\n",
    "}\n",
    "\n",
    "\n",
    "print(f'{planetas[\"nombre\"]} tiene una circunferencia polar de {planetas[\"circunferenciaKms\"][\"polar\"]} Km')\n",
    "\n"
   ]
  },
  {
   "cell_type": "code",
   "execution_count": 2,
   "metadata": {},
   "outputs": [
    {
     "name": "stdout",
     "output_type": "stream",
     "text": [
      "El sistema solar tiene un promedio de 17.833333333333332 de lunas.\n"
     ]
    }
   ],
   "source": [
    "lunas_planetarias = {\n",
    "    'mercurio': 0,\n",
    "    'venus': 0,\n",
    "    'tierra': 1,\n",
    "    'marte': 2,\n",
    "    'jupiter': 79,\n",
    "    'saturno': 82,\n",
    "    'urano': 27,\n",
    "    'neptuno': 14,\n",
    "    'pluton': 5,\n",
    "    'haumea': 2,\n",
    "    'makemake': 1,\n",
    "    'eris': 1\n",
    "}\n",
    "\n",
    "planetas = len(lunas_planetarias.keys())\n",
    "\n",
    "total_lunas = 0\n",
    "for luna in lunas_planetarias.values():\n",
    "    total_lunas = total_lunas + luna\n",
    "\n",
    "promedio = total_lunas/ planetas\n",
    "\n",
    "print(f'El sistema solar tiene un promedio de {promedio} de lunas.')\n",
    "\n",
    "\n"
   ]
  }
 ],
 "metadata": {
  "interpreter": {
   "hash": "648d64527e91345dabb46150b04156a68cf623baef488e9bce156005adf01358"
  },
  "kernelspec": {
   "display_name": "Python 3.10.2 64-bit",
   "language": "python",
   "name": "python3"
  },
  "language_info": {
   "codemirror_mode": {
    "name": "ipython",
    "version": 3
   },
   "file_extension": ".py",
   "mimetype": "text/x-python",
   "name": "python",
   "nbconvert_exporter": "python",
   "pygments_lexer": "ipython3",
   "version": "3.10.2"
  },
  "orig_nbformat": 4
 },
 "nbformat": 4,
 "nbformat_minor": 2
}
