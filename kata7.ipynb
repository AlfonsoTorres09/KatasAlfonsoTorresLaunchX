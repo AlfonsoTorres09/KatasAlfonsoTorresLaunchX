{
 "cells": [
  {
   "cell_type": "code",
   "execution_count": 3,
   "metadata": {},
   "outputs": [
    {
     "name": "stdout",
     "output_type": "stream",
     "text": [
      "Mercurio\n",
      "Venus\n",
      "Tierra}\n",
      "Marte\n",
      "Jupiter\n",
      "Saturno\n",
      "Urano\n",
      "Neptuno\n",
      "Plutón\n"
     ]
    }
   ],
   "source": [
    "nuevo_planeta = \"\"\n",
    "\n",
    "planetas = []\n",
    "\n",
    "while nuevo_planeta.lower() != \"done\":\n",
    "    if nuevo_planeta: \n",
    "        planetas.append(nuevo_planeta)\n",
    "    nuevo_planeta = input(\"Dime el nombre de un planeta\")\n",
    "\n",
    "for planeta in planetas:\n",
    "    print(planeta)\n"
   ]
  }
 ],
 "metadata": {
  "interpreter": {
   "hash": "648d64527e91345dabb46150b04156a68cf623baef488e9bce156005adf01358"
  },
  "kernelspec": {
   "display_name": "Python 3.10.2 64-bit",
   "language": "python",
   "name": "python3"
  },
  "language_info": {
   "codemirror_mode": {
    "name": "ipython",
    "version": 3
   },
   "file_extension": ".py",
   "mimetype": "text/x-python",
   "name": "python",
   "nbconvert_exporter": "python",
   "pygments_lexer": "ipython3",
   "version": "3.10.2"
  },
  "orig_nbformat": 4
 },
 "nbformat": 4,
 "nbformat_minor": 2
}
