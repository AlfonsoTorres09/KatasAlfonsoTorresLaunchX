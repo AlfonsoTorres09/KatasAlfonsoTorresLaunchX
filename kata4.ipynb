{
 "cells": [
  {
   "cell_type": "code",
   "execution_count": 5,
   "metadata": {},
   "outputs": [
    {
     "name": "stdout",
     "output_type": "stream",
     "text": [
      "facts\n",
      "Moon\n",
      "Moon\n",
      "facts\n",
      "Moon\n",
      "Moon\n",
      "temperature\n",
      "Moon\n",
      "Interesting facts about the Moon. The Moon is Earth's only satellite. There are several interesting facts about the Moon and how it affects life here on Earth. \n",
      "On average, the Moon moves 4cm away from the Earth every year. This yearly drift is not significant enough to cause immediate effects on Earth. The highest daylight temperature of the Moon is 127 Buuuu.\n"
     ]
    }
   ],
   "source": [
    "texto = \"\"\"Interesting facts about the Moon. The Moon is Earth's only satellite. There are several interesting facts about the Moon and how it affects life here on Earth. \n",
    "On average, the Moon moves 4cm away from the Earth every year. This yearly drift is not significant enough to cause immediate effects on Earth. The highest daylight temperature of the Moon is 127 C.\"\"\"\n",
    "\n",
    "arr_Texto = texto.split()\n",
    "\n",
    "palabras_clave = [\"facts\", \"Moon\", \"temperature\"]\n",
    "\n",
    "\n",
    "for palabra in arr_Texto: \n",
    "    for palabraClave in palabras_clave:\n",
    "        if palabraClave.lower()in palabra.lower():\n",
    "            print(palabraClave)\n",
    "            break\n",
    "    \n",
    "print (texto.replace(\"C\", \"Celcius\"))\n"
   ]
  },
  {
   "cell_type": "code",
   "execution_count": 16,
   "metadata": {},
   "outputs": [
    {
     "name": "stdout",
     "output_type": "stream",
     "text": [
      "Nombre del planeta Earth\n",
      "Gravead en Moon : 1.6199999999999999 m/s\n",
      "\n",
      "\n",
      "Datos de gravedad sobre Ganímedes\n",
      "----------------------------------------------------------------\n",
      "Nombre del planeta Marte\n",
      "Gravead en Ganímedes : 1.4300000000000002 m/s\n",
      "\n"
     ]
    }
   ],
   "source": [
    "nombre = \"Moon\"\n",
    "gravedad = 0.00162\n",
    "planeta = \"Earth\"\n",
    "\n",
    "titulo = f\"Datos de gravedad sobre  {nombre}\"\n",
    "\n",
    "plantilla = f\"\"\"Nombre del planeta {planeta}\n",
    "Gravead en {nombre} : {gravedad * 1000} m/s\n",
    "\"\"\"\n",
    "\n",
    "titulo_plantilla = \"\"\"{titulo.title()}\n",
    "{plantilla}\"\"\"\n",
    "\n",
    "print(plantilla)\n",
    "\n",
    "\n",
    "planeta = 'Marte'\n",
    "gravedad  = 0.00143\n",
    "nombre = 'Ganímedes'\n",
    "\n",
    "nueva_plantilla= \"\"\"\n",
    "Datos de gravedad sobre {nombre}\n",
    "----------------------------------------------------------------\n",
    "Nombre del planeta {planeta}\n",
    "Gravead en {nombre} : {gravedad} m/s\n",
    "\"\"\"\n",
    "\n",
    "print(nueva_plantilla.format(nombre = nombre, planeta = planeta, gravedad = gravedad * 1000))\n",
    "\n",
    "\n",
    "\n"
   ]
  }
 ],
 "metadata": {
  "interpreter": {
   "hash": "648d64527e91345dabb46150b04156a68cf623baef488e9bce156005adf01358"
  },
  "kernelspec": {
   "display_name": "Python 3.10.2 64-bit",
   "language": "python",
   "name": "python3"
  },
  "language_info": {
   "codemirror_mode": {
    "name": "ipython",
    "version": 3
   },
   "file_extension": ".py",
   "mimetype": "text/x-python",
   "name": "python",
   "nbconvert_exporter": "python",
   "pygments_lexer": "ipython3",
   "version": "3.10.2"
  },
  "orig_nbformat": 4
 },
 "nbformat": 4,
 "nbformat_minor": 2
}
