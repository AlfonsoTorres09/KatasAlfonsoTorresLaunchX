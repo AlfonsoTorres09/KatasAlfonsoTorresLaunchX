{
 "cells": [
  {
   "cell_type": "code",
   "execution_count": 4,
   "metadata": {},
   "outputs": [
    {
     "name": "stdout",
     "output_type": "stream",
     "text": [
      "Distancia entre planetas 390577534 mi\n"
     ]
    }
   ],
   "source": [
    "distancia_Tierra = 149597870\n",
    "distancia_Jupiter = 778547200\n",
    "\n",
    "distancia_entre_planetas = (distancia_Jupiter - distancia_Tierra) \n",
    "\n",
    "distancia_entre_planetas\n",
    "\n",
    "\n",
    "\n",
    "print('Distancia entre planetas ' + str(round(distancia_entre_planetas * 0.621)) + ' mi')\n",
    "\n"
   ]
  },
  {
   "cell_type": "code",
   "execution_count": 7,
   "metadata": {},
   "outputs": [
    {
     "name": "stdout",
     "output_type": "stream",
     "text": [
      "Distancia en Km 50300000\n",
      "Distancia en Mi 31236300.0\n"
     ]
    }
   ],
   "source": [
    "planeta_uno = input(\"Distancia al sol del primer planeta\")\n",
    "planeta_dos = input(\"Distancia al sol del segundo planeta\")\n",
    "\n",
    "distancia_km = int(planeta_dos) - int(planeta_uno)\n",
    "\n",
    "print(\"Distancia en Km \" + str(abs(distancia_km)))\n",
    "\n",
    "distancia_mi = distancia_km * 0.621\n",
    "\n",
    "print(\"Distancia en Mi \" + str(abs(distancia_mi)))\n"
   ]
  }
 ],
 "metadata": {
  "interpreter": {
   "hash": "648d64527e91345dabb46150b04156a68cf623baef488e9bce156005adf01358"
  },
  "kernelspec": {
   "display_name": "Python 3.10.2 64-bit",
   "language": "python",
   "name": "python3"
  },
  "language_info": {
   "codemirror_mode": {
    "name": "ipython",
    "version": 3
   },
   "file_extension": ".py",
   "mimetype": "text/x-python",
   "name": "python",
   "nbconvert_exporter": "python",
   "pygments_lexer": "ipython3",
   "version": "3.10.2"
  },
  "orig_nbformat": 4
 },
 "nbformat": 4,
 "nbformat_minor": 2
}
