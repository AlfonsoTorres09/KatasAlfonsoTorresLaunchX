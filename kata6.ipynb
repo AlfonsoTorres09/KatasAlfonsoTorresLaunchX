{
 "cells": [
  {
   "cell_type": "code",
   "execution_count": 6,
   "metadata": {},
   "outputs": [
    {
     "name": "stdout",
     "output_type": "stream",
     "text": [
      "Hay 8 planetas en el sistema solar.\n",
      "Hay 9 planetas en el sistema solar.\n",
      "El último planeta en la lista es Plutón\n"
     ]
    }
   ],
   "source": [
    "planetas = [\"Mercurio\", \"Venus\", \"Tierra\", \"Marte\", \"Jupiter\", \"Saturno\", \"Urano\", \"Neptuno\"]\n",
    "\n",
    "print(\"Hay \" + str(len(planetas)) + \" planetas en el sistema solar.\")\n",
    "\n",
    "\n",
    "planetas.append(\"Plutón\")\n",
    "\n",
    "\n",
    "print(\"Hay \" + str(len(planetas)) + \" planetas en el sistema solar.\")\n",
    "\n",
    "print(\"El último planeta en la lista es \" + planetas[-1])\n",
    "\n"
   ]
  },
  {
   "cell_type": "code",
   "execution_count": 9,
   "metadata": {},
   "outputs": [
    {
     "name": "stdout",
     "output_type": "stream",
     "text": [
      "Estos son los planetas mas cercanos al sol que Jupiter\n",
      "['Mercurio', 'Venus', 'Tierra', 'Marte']\n",
      "Estos son los planetas mas alejados al sol que Jupiter\n",
      "['Saturno', 'Urano', 'Neptuno']\n"
     ]
    }
   ],
   "source": [
    "planetas = [\"Mercurio\", \"Venus\", \"Tierra\", \"Marte\", \"Jupiter\", \"Saturno\", \"Urano\", \"Neptuno\"]\n",
    "\n",
    "nombre_planeta = input(\"Dime el nombre de un planeta. Iniciando con una mayuscula\")\n",
    "\n",
    "indice_planeta = planetas.index(nombre_planeta);\n",
    "\n",
    "print(\"Estos son los planetas mas cercanos al sol que \" + nombre_planeta)\n",
    "print(planetas[0:indice_planeta])\n",
    "\n",
    "\n",
    "print(\"Estos son los planetas mas alejados al sol que \" + nombre_planeta)\n",
    "print(planetas[indice_planeta + 1:])\n",
    "\n",
    "\n"
   ]
  }
 ],
 "metadata": {
  "interpreter": {
   "hash": "648d64527e91345dabb46150b04156a68cf623baef488e9bce156005adf01358"
  },
  "kernelspec": {
   "display_name": "Python 3.10.2 64-bit",
   "language": "python",
   "name": "python3"
  },
  "language_info": {
   "codemirror_mode": {
    "name": "ipython",
    "version": 3
   },
   "file_extension": ".py",
   "mimetype": "text/x-python",
   "name": "python",
   "nbconvert_exporter": "python",
   "pygments_lexer": "ipython3",
   "version": "3.10.2"
  },
  "orig_nbformat": 4
 },
 "nbformat": 4,
 "nbformat_minor": 2
}
