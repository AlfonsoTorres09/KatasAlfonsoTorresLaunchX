{
 "cells": [
  {
   "cell_type": "code",
   "execution_count": 2,
   "metadata": {},
   "outputs": [
    {
     "name": "stdout",
     "output_type": "stream",
     "text": [
      "Reporte:\n",
      "    Promedio Comustible: 38.333333333333336%\n",
      "    Gasolina: 50%\n",
      "    Turbosina: 40%\n",
      "    Gas: 25% \n",
      "    \n"
     ]
    }
   ],
   "source": [
    "def reporteCombustible(tanque1, tanque2, tanque3):\n",
    "    return f\"\"\"Reporte:\n",
    "    Promedio Comustible: {promedioCombustible([tanque1,tanque2,tanque3])}%\n",
    "    Gasolina: {tanque1}%\n",
    "    Turbosina: {tanque2}%\n",
    "    Gas: {tanque3}% \n",
    "    \"\"\"\n",
    "\n",
    "def promedioCombustible(valores):\n",
    "    total = sum(valores)\n",
    "    cantidadTanques = len(valores)\n",
    "    return total / cantidadTanques\n",
    "    \n",
    "print(reporteCombustible(50,40,25))"
   ]
  },
  {
   "cell_type": "code",
   "execution_count": 4,
   "metadata": {},
   "outputs": [
    {
     "name": "stdout",
     "output_type": "stream",
     "text": [
      "Mision hacia Marte \n",
      "    Tiempo de mision 35\n",
      "    Combustible disponible: 4350 \n"
     ]
    }
   ],
   "source": [
    "def reporteMision(horaPrelanzamiento, tiempoVuelo, destino,tanqueExterno, tanqueInterno):\n",
    "    return f\"\"\"Mision hacia {destino} \n",
    "    Tiempo de mision {horaPrelanzamiento + tiempoVuelo}\n",
    "    Combustible disponible: {tanqueExterno + tanqueInterno} \"\"\"\n",
    "\n",
    "print (reporteMision(10, 25, 'Marte', 1550, 2800))\n"
   ]
  },
  {
   "cell_type": "code",
   "execution_count": 15,
   "metadata": {},
   "outputs": [
    {
     "name": "stdout",
     "output_type": "stream",
     "text": [
      "Mision hacia Marte \n",
      "    Tiempo de mision 60\n",
      "    Combustible disponible: 54350\n",
      "tanque1 ==> 1550 galones disponibles. \n",
      "tanque2 ==> 2800 galones disponibles. \n",
      "tanque3 ==> 50000 galones disponibles. \n",
      "\n"
     ]
    }
   ],
   "source": [
    "def reporteMision(destino, *tiempo,  **combustible):\n",
    "    reporte = f\"\"\"Mision hacia {destino} \n",
    "    Tiempo de mision {sum(tiempo)}\n",
    "    Combustible disponible: {sum(combustible.values())}\\n\"\"\"\n",
    "\n",
    "    for tanque, galones in combustible.items(): \n",
    "        reporte += f\"{tanque} ==> {galones} galones disponibles. \\n\"\n",
    "    \n",
    "    return reporte\n",
    "\n",
    "\n",
    "print (reporteMision('Marte', 10, 50, tanque1 = 1550, tanque2 = 2800, tanque3 = 50000 ))"
   ]
  }
 ],
 "metadata": {
  "interpreter": {
   "hash": "648d64527e91345dabb46150b04156a68cf623baef488e9bce156005adf01358"
  },
  "kernelspec": {
   "display_name": "Python 3.10.2 64-bit",
   "language": "python",
   "name": "python3"
  },
  "language_info": {
   "codemirror_mode": {
    "name": "ipython",
    "version": 3
   },
   "file_extension": ".py",
   "mimetype": "text/x-python",
   "name": "python",
   "nbconvert_exporter": "python",
   "pygments_lexer": "ipython3",
   "version": "3.10.2"
  },
  "orig_nbformat": 4
 },
 "nbformat": 4,
 "nbformat_minor": 2
}
